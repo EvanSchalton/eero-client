{
 "cells": [
  {
   "cell_type": "code",
   "execution_count": null,
   "metadata": {},
   "outputs": [],
   "source": [
    "from pathlib import Path\n",
    "import os\n",
    "import sys\n",
    "\n",
    "MODULE_DIR = Path(\"/workspaces/eero-client/eero\")\n",
    "\n",
    "if str(MODULE_DIR.parent) not in sys.path:\n",
    "    print(f\"Adding {MODULE_DIR.parent} to sys.path\")\n",
    "    sys.path.append(str(MODULE_DIR.parent))\n",
    "\n",
    "pwd = %pwd\n",
    "PWD = Path(pwd)\n",
    "\n",
    "os.environ[\"LOG_LEVEL\"] = \"INFO\"\n",
    "# os.environ[\"LOG_LEVEL\"] = \"DEBUG\"\n",
    "# os.environ[\"DEBUGGING_PATH\"] = str(PWD / \"debugging\")"
   ]
  },
  {
   "cell_type": "code",
   "execution_count": null,
   "metadata": {},
   "outputs": [],
   "source": [
    "from eero import Eero, FileSessionStorage"
   ]
  },
  {
   "cell_type": "code",
   "execution_count": null,
   "metadata": {},
   "outputs": [],
   "source": [
    "session = FileSessionStorage(\"session.cookie\")\n",
    "eero = Eero(session=session)"
   ]
  },
  {
   "cell_type": "code",
   "execution_count": null,
   "metadata": {},
   "outputs": [],
   "source": [
    "if not eero.is_authenticated:\n",
    "    phone_number = input(\"Phone Number: \")\n",
    "    user_token = eero.login(phone_number)\n",
    "    verification_code = input(\"verification key from email or SMS: \")\n",
    "    eero.login_verify(verification_code, user_token)"
   ]
  },
  {
   "cell_type": "code",
   "execution_count": null,
   "metadata": {},
   "outputs": [],
   "source": [
    "print(\"Network(s):\")\n",
    "print(\" - \" + \" - \".join(eero.network_clients.keys()))\n",
    "network = eero.network_clients[\n",
    "    (\n",
    "        input(\"Network SSID: \")\n",
    "        if len(eero.network_clients) > 1\n",
    "        else list(eero.network_clients.keys())[0]\n",
    "    )\n",
    "]"
   ]
  },
  {
   "cell_type": "markdown",
   "metadata": {},
   "source": []
  },
  {
   "cell_type": "code",
   "execution_count": null,
   "metadata": {},
   "outputs": [],
   "source": [
    "network.devices"
   ]
  },
  {
   "cell_type": "code",
   "execution_count": null,
   "metadata": {},
   "outputs": [],
   "source": []
  }
 ],
 "metadata": {
  "kernelspec": {
   "display_name": "Python 3",
   "language": "python",
   "name": "python3"
  },
  "language_info": {
   "codemirror_mode": {
    "name": "ipython",
    "version": 3
   },
   "file_extension": ".py",
   "mimetype": "text/x-python",
   "name": "python",
   "nbconvert_exporter": "python",
   "pygments_lexer": "ipython3",
   "version": "3.10.14"
  }
 },
 "nbformat": 4,
 "nbformat_minor": 2
}
